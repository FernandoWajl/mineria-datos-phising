{
 "cells": [
  {
   "cell_type": "code",
   "execution_count": 2,
   "metadata": {},
   "outputs": [],
   "source": [
    "import numpy as np\n",
    "import pandas as pd\n",
    "import matplotlib.pyplot as plt\n",
    "%matplotlib inline"
   ]
  },
  {
   "cell_type": "markdown",
   "metadata": {},
   "source": [
    "Leemos datos del csv."
   ]
  },
  {
   "cell_type": "code",
   "execution_count": 3,
   "metadata": {},
   "outputs": [],
   "source": [
    "data = pd.read_csv('phishing.csv')"
   ]
  },
  {
   "cell_type": "markdown",
   "metadata": {},
   "source": [
    "Veamos que tipo de variables contiene el dataset."
   ]
  },
  {
   "cell_type": "code",
   "execution_count": 6,
   "metadata": {},
   "outputs": [
    {
     "name": "stdout",
     "output_type": "stream",
     "text": [
      "Empty DataFrame\n",
      "Columns: []\n",
      "Index: [0, 1, 2, 3, 4, 5, 6, 7, 8, 9, 10, 11, 12, 13, 14, 15, 16, 17, 18, 19, 20, 21, 22, 23, 24, 25, 26, 27, 28, 29, 30, 31, 32, 33, 34, 35, 36, 37, 38, 39, 40, 41, 42, 43, 44, 45, 46, 47, 48, 49, 50, 51, 52, 53, 54, 55, 56, 57, 58, 59, 60, 61, 62, 63, 64, 65, 66, 67, 68, 69, 70, 71, 72, 73, 74, 75, 76, 77, 78, 79, 80, 81, 82, 83, 84, 85, 86, 87, 88, 89, 90, 91, 92, 93, 94, 95, 96, 97, 98, 99, ...]\n",
      "\n",
      "[11054 rows x 0 columns]\n"
     ]
    }
   ],
   "source": [
    "cat = data.select_dtypes(include=\"object\")\n",
    "print(cat)"
   ]
  },
  {
   "cell_type": "code",
   "execution_count": 7,
   "metadata": {},
   "outputs": [
    {
     "name": "stdout",
     "output_type": "stream",
     "text": [
      "       Index  UsingIP  LongURL  ShortURL  Symbol@  Redirecting//  \\\n",
      "0          0        1        1         1        1              1   \n",
      "1          1        1        0         1        1              1   \n",
      "2          2        1        0         1        1              1   \n",
      "3          3        1        0        -1        1              1   \n",
      "4          4       -1        0        -1        1             -1   \n",
      "...      ...      ...      ...       ...      ...            ...   \n",
      "11049  11049        1       -1         1       -1              1   \n",
      "11050  11050       -1        1         1       -1             -1   \n",
      "11051  11051        1       -1         1        1              1   \n",
      "11052  11052       -1       -1         1        1              1   \n",
      "11053  11053       -1       -1         1        1              1   \n",
      "\n",
      "       PrefixSuffix-  SubDomains  HTTPS  DomainRegLen  ...  UsingPopupWindow  \\\n",
      "0                 -1           0      1            -1  ...                 1   \n",
      "1                 -1          -1     -1            -1  ...                 1   \n",
      "2                 -1          -1     -1             1  ...                 1   \n",
      "3                 -1           1      1            -1  ...                -1   \n",
      "4                 -1           1      1            -1  ...                 1   \n",
      "...              ...         ...    ...           ...  ...               ...   \n",
      "11049              1           1      1            -1  ...                -1   \n",
      "11050             -1           1     -1            -1  ...                -1   \n",
      "11051             -1           1     -1            -1  ...                 1   \n",
      "11052             -1          -1     -1             1  ...                -1   \n",
      "11053             -1          -1     -1             1  ...                 1   \n",
      "\n",
      "       IframeRedirection  AgeofDomain  DNSRecording  WebsiteTraffic  PageRank  \\\n",
      "0                      1           -1            -1               0        -1   \n",
      "1                      1            1            -1               1        -1   \n",
      "2                      1           -1            -1               1        -1   \n",
      "3                      1           -1            -1               0        -1   \n",
      "4                      1            1             1               1        -1   \n",
      "...                  ...          ...           ...             ...       ...   \n",
      "11049                 -1            1             1              -1        -1   \n",
      "11050                  1            1             1               1         1   \n",
      "11051                  1            1             1               1        -1   \n",
      "11052                  1            1             1               1        -1   \n",
      "11053                  1           -1             1              -1        -1   \n",
      "\n",
      "       GoogleIndex  LinksPointingToPage  StatsReport  class  \n",
      "0                1                    1            1     -1  \n",
      "1                1                    0           -1     -1  \n",
      "2                1                   -1            1     -1  \n",
      "3                1                    1            1      1  \n",
      "4                1                   -1           -1      1  \n",
      "...            ...                  ...          ...    ...  \n",
      "11049            1                    1            1      1  \n",
      "11050            1                   -1            1     -1  \n",
      "11051            1                    0            1     -1  \n",
      "11052            1                    1            1     -1  \n",
      "11053           -1                    1           -1     -1  \n",
      "\n",
      "[11054 rows x 32 columns]\n"
     ]
    }
   ],
   "source": [
    "num = data.select_dtypes(exclude=\"object\")\n",
    "print(num)"
   ]
  },
  {
   "cell_type": "markdown",
   "metadata": {},
   "source": [
    "Son todas numericas. Chequeamos si hay valores nulos. "
   ]
  },
  {
   "cell_type": "code",
   "execution_count": 9,
   "metadata": {},
   "outputs": [
    {
     "name": "stdout",
     "output_type": "stream",
     "text": [
      "Index                  0\n",
      "UsingIP                0\n",
      "LongURL                0\n",
      "ShortURL               0\n",
      "Symbol@                0\n",
      "Redirecting//          0\n",
      "PrefixSuffix-          0\n",
      "SubDomains             0\n",
      "HTTPS                  0\n",
      "DomainRegLen           0\n",
      "Favicon                0\n",
      "NonStdPort             0\n",
      "HTTPSDomainURL         0\n",
      "RequestURL             0\n",
      "AnchorURL              0\n",
      "LinksInScriptTags      0\n",
      "ServerFormHandler      0\n",
      "InfoEmail              0\n",
      "AbnormalURL            0\n",
      "WebsiteForwarding      0\n",
      "StatusBarCust          0\n",
      "DisableRightClick      0\n",
      "UsingPopupWindow       0\n",
      "IframeRedirection      0\n",
      "AgeofDomain            0\n",
      "DNSRecording           0\n",
      "WebsiteTraffic         0\n",
      "PageRank               0\n",
      "GoogleIndex            0\n",
      "LinksPointingToPage    0\n",
      "StatsReport            0\n",
      "class                  0\n",
      "dtype: int64\n"
     ]
    }
   ],
   "source": [
    "nulos = pd.isnull(data).sum()\n",
    "print(nulos)"
   ]
  },
  {
   "cell_type": "markdown",
   "metadata": {},
   "source": [
    "Separamos en data y target."
   ]
  },
  {
   "cell_type": "code",
   "execution_count": 14,
   "metadata": {},
   "outputs": [
    {
     "name": "stdout",
     "output_type": "stream",
     "text": [
      "(11054, 31) <class 'numpy.ndarray'>\n"
     ]
    }
   ],
   "source": [
    "X = np.array(data[data.columns[0:(len(data.columns) - 1)]])\n",
    "print(X.shape,type(X))\n",
    "y = pd.factorize(data['class'].values)[0]"
   ]
  },
  {
   "cell_type": "markdown",
   "metadata": {},
   "source": [
    "Saco la primer variable de X: index."
   ]
  },
  {
   "cell_type": "code",
   "execution_count": 15,
   "metadata": {},
   "outputs": [
    {
     "name": "stdout",
     "output_type": "stream",
     "text": [
      "(11054, 30)\n"
     ]
    }
   ],
   "source": [
    "numbers = list(range(1,32))\n",
    "X = X[:,list(range(1,31))]\n",
    "print(X.shape)\n",
    "columns = []\n",
    "for number in numbers:\n",
    "    columns.append(data.columns[number])"
   ]
  },
  {
   "cell_type": "markdown",
   "metadata": {},
   "source": [
    "Usaremos arbol de decisión. Vemos sus porcentajes de aciertos segun el tipo de arbol. "
   ]
  },
  {
   "cell_type": "code",
   "execution_count": 16,
   "metadata": {},
   "outputs": [
    {
     "name": "stdout",
     "output_type": "stream",
     "text": [
      "[99.07271288024427, 99.07271288024427]\n",
      "[96.11035730438715, 96.47218453188603]\n"
     ]
    }
   ],
   "source": [
    "from sklearn import tree, model_selection, metrics\n",
    "\n",
    "np.random.seed(12)\n",
    "listaAccTrain = []\n",
    "listaAccTest = []\n",
    "\n",
    "X_train, X_test, y_train, y_test = model_selection.train_test_split(X, y, train_size=0.8)\n",
    "\n",
    "for tipoArbol in ['gini','entropy']:\n",
    "    clasificador = tree.DecisionTreeClassifier(criterion=tipoArbol)\n",
    "    clasificador.fit(X_train,y_train)\n",
    "\n",
    "    prediccionesTrain = clasificador.predict(X_train)\n",
    "    aciertoTrain = metrics.accuracy_score(prediccionesTrain, y_train) * 100\n",
    "    prediccionesTest = clasificador.predict(X_test)\n",
    "    aciertoTest = metrics.accuracy_score(prediccionesTest, y_test) * 100\n",
    "    \n",
    "    listaAccTrain.append(aciertoTrain)\n",
    "    listaAccTest.append(aciertoTest)\n",
    "    \n",
    "print(listaAccTrain)\n",
    "print(listaAccTest)"
   ]
  },
  {
   "cell_type": "markdown",
   "metadata": {},
   "source": [
    "Buscamos la mejor configuración de los árboles de decisión para aboradar el problema utilizando una validación cruzada de 10 particiones."
   ]
  },
  {
   "cell_type": "code",
   "execution_count": 77,
   "metadata": {},
   "outputs": [
    {
     "data": {
      "text/plain": [
       "GridSearchCV(cv=10, error_score='raise-deprecating',\n",
       "             estimator=DecisionTreeClassifier(class_weight=None,\n",
       "                                              criterion='gini', max_depth=None,\n",
       "                                              max_features=None,\n",
       "                                              max_leaf_nodes=None,\n",
       "                                              min_impurity_decrease=0.0,\n",
       "                                              min_impurity_split=None,\n",
       "                                              min_samples_leaf=1,\n",
       "                                              min_samples_split=2,\n",
       "                                              min_weight_fraction_leaf=0.0,\n",
       "                                              presort=False, random_state=None,\n",
       "                                              splitter='best'),\n",
       "             iid=True, n_jobs=None,\n",
       "             param_grid={'criterion': ['gini', 'entropy'],\n",
       "                         'min_samples_leaf': [1, 2, 4],\n",
       "                         'min_samples_split': [2, 5, 10]},\n",
       "             pre_dispatch='2*n_jobs', refit=True, return_train_score=True,\n",
       "             scoring='accuracy', verbose=0)"
      ]
     },
     "execution_count": 77,
     "metadata": {},
     "output_type": "execute_result"
    }
   ],
   "source": [
    "semilla = np.random.seed(12)\n",
    "\n",
    "c = tree.DecisionTreeClassifier()\n",
    "\n",
    "params = {\n",
    "    'criterion': ['gini', 'entropy'], \n",
    "    'min_samples_split': [2, 5, 10], \n",
    "    'min_samples_leaf': [1, 2, 4]\n",
    "}\n",
    "\n",
    "clasificadores =  model_selection.GridSearchCV(c, params, scoring='accuracy', cv=10, return_train_score=True, iid=True)\n",
    "clasificadores.fit(X_train,y_train)\n"
   ]
  },
  {
   "cell_type": "code",
   "execution_count": 78,
   "metadata": {},
   "outputs": [
    {
     "name": "stdout",
     "output_type": "stream",
     "text": [
      "0.9624561800294018\n",
      "{'criterion': 'entropy', 'min_samples_leaf': 1, 'min_samples_split': 2}\n"
     ]
    }
   ],
   "source": [
    "print(clasificadores.best_score_)\n",
    "print(clasificadores.best_params_)"
   ]
  },
  {
   "cell_type": "markdown",
   "metadata": {},
   "source": [
    "Probamos con random forest para comparar rendimientos"
   ]
  },
  {
   "cell_type": "code",
   "execution_count": 79,
   "metadata": {},
   "outputs": [
    {
     "name": "stdout",
     "output_type": "stream",
     "text": [
      "99.07271288024427\n",
      "96.87924016282226\n"
     ]
    }
   ],
   "source": [
    "from sklearn.ensemble import RandomForestClassifier\n",
    "\n",
    "clfRF = RandomForestClassifier(criterion='entropy',\n",
    "                             n_estimators=100, random_state=0)\n",
    "clfRF.fit(X_train,y_train)\n",
    "predTrain = clfRF.predict(X_train)\n",
    "predTest = clfRF.predict(X_test)\n",
    "accTrainRF = metrics.accuracy_score(predTrain, y_train) * 100\n",
    "accTestRF =  metrics.accuracy_score(predTest, y_test) * 100\n",
    "\n",
    "print(accTrainRF)\n",
    "print(accTestRF)"
   ]
  },
  {
   "cell_type": "markdown",
   "metadata": {},
   "source": [
    "Buscamos su mejor configuracion con gridSearchCV. Ojo: demora 10 minutos aprox."
   ]
  },
  {
   "cell_type": "code",
   "execution_count": 80,
   "metadata": {},
   "outputs": [
    {
     "data": {
      "text/plain": [
       "GridSearchCV(cv=10, error_score='raise-deprecating',\n",
       "             estimator=RandomForestClassifier(bootstrap=True, class_weight=None,\n",
       "                                              criterion='gini', max_depth=None,\n",
       "                                              max_features='auto',\n",
       "                                              max_leaf_nodes=None,\n",
       "                                              min_impurity_decrease=0.0,\n",
       "                                              min_impurity_split=None,\n",
       "                                              min_samples_leaf=1,\n",
       "                                              min_samples_split=2,\n",
       "                                              min_weight_fraction_leaf=0.0,\n",
       "                                              n_estimators='warn', n_jobs=None,\n",
       "                                              oob_score=False,\n",
       "                                              random_state=None, verbose=0,\n",
       "                                              warm_start=False),\n",
       "             iid=True, n_jobs=None,\n",
       "             param_grid={'criterion': ['gini', 'entropy'],\n",
       "                         'max_depth': [5, 10, None],\n",
       "                         'max_features': [1, 'sqrt', 'log2', None],\n",
       "                         'min_samples_split': [2, 10, 20],\n",
       "                         'n_estimators': [10, 50, 100]},\n",
       "             pre_dispatch='2*n_jobs', refit=True, return_train_score=True,\n",
       "             scoring='accuracy', verbose=0)"
      ]
     },
     "execution_count": 80,
     "metadata": {},
     "output_type": "execute_result"
    }
   ],
   "source": [
    "semilla = np.random.seed(12)\n",
    "clasificador = RandomForestClassifier()\n",
    "\n",
    "params = {'n_estimators': [10,50,100], \n",
    "          'max_features': [1,'sqrt','log2',None], \n",
    "          'criterion': ['gini','entropy'],\n",
    "          'max_depth': [5,10,None],\n",
    "          'min_samples_split': [2,10,20]\n",
    "         }\n",
    "\n",
    "clasificadoresRF =  model_selection.GridSearchCV(clasificador, params, scoring='accuracy', cv=10, return_train_score=True, iid=True)\n",
    "clasificadoresRF.fit(X_train,y_train)"
   ]
  },
  {
   "cell_type": "code",
   "execution_count": 81,
   "metadata": {},
   "outputs": [
    {
     "name": "stdout",
     "output_type": "stream",
     "text": [
      "0.9731991405631573\n",
      "{'criterion': 'entropy', 'max_depth': None, 'max_features': 1, 'min_samples_split': 2, 'n_estimators': 100}\n"
     ]
    }
   ],
   "source": [
    "print(clasificadoresRF.best_score_)\n",
    "print(clasificadoresRF.best_params_)"
   ]
  },
  {
   "cell_type": "markdown",
   "metadata": {},
   "source": [
    "Como vemos, el rendimiento mejora un poco con random forest. Pero perdemos la simplicidad que nos dan los arboles. \n",
    "Estamos dispuestos a resignar un 1% de rendimiento para tener un clasificador mas simple?"
   ]
  },
  {
   "cell_type": "markdown",
   "metadata": {},
   "source": [
    "A continuacion buscaremos las variables mas importantes. Tanto con el arbol como con el random forest. "
   ]
  },
  {
   "cell_type": "markdown",
   "metadata": {},
   "source": [
    "Arbol: Busco variables mas importantes con SelectFromModel."
   ]
  },
  {
   "cell_type": "code",
   "execution_count": 82,
   "metadata": {},
   "outputs": [
    {
     "name": "stdout",
     "output_type": "stream",
     "text": [
      "Las variables seleccionadas son  ['UsingIP', 'PrefixSuffix-', 'SubDomains', 'HTTPS', 'DomainRegLen', 'RequestURL', 'AnchorURL', 'LinksInScriptTags', 'ServerFormHandler', 'AgeofDomain', 'DNSRecording', 'WebsiteTraffic', 'PageRank', 'GoogleIndex', 'LinksPointingToPage']\n",
      "Las variables descartadas son  ['LongURL', 'ShortURL', 'Symbol@', 'Redirecting//', 'Favicon', 'NonStdPort', 'HTTPSDomainURL', 'InfoEmail', 'AbnormalURL', 'WebsiteForwarding', 'StatusBarCust', 'DisableRightClick', 'UsingPopupWindow', 'IframeRedirection', 'StatsReport']\n"
     ]
    }
   ],
   "source": [
    "# Se importa la función que permite seleccionar variables a partir de un modelo\n",
    "from sklearn.feature_selection import SelectFromModel\n",
    "\n",
    "# Se llama al constructor del árbol de decisión\n",
    "arbolDecision = tree.DecisionTreeClassifier(criterion=clasificadores.best_params_['criterion']\n",
    "                                            , min_samples_split=clasificadores.best_params_['min_samples_split']\n",
    "                                            , min_samples_leaf=clasificadores.best_params_['min_samples_leaf'])\n",
    "# Se aplica la selección a partir del modelo\n",
    "model =  SelectFromModel(arbolDecision, threshold='median')\n",
    "# Se entrena el objeto de la clase SelectFromModel\n",
    "model.fit(X_train,y_train)\n",
    "# Se transforman los datos originales de entrenamiento de acuerdo a las variables seleccionadas\n",
    "X_new =  model.transform(X_train)\n",
    "# Se obtienen las variables seleccionadas: lista de booleanos\n",
    "booleanas =  model.get_support()\n",
    "# Se obtienen los nombres de las variables seleccionadas\n",
    "\n",
    "variablesSeleccionadas = [columns[i] for i in range(len(columns) - 1) if booleanas[i]==True]\n",
    "print(\"Las variables seleccionadas son \", variablesSeleccionadas)\n",
    "\n",
    "indicesSeleccionados = [i for i in range(len(columns) - 1) if booleanas[i]==True]\n",
    "\n",
    "variablesDescartadas = [columns[i] for i in range(len(columns) - 1) if booleanas[i]==False]\n",
    "print(\"Las variables descartadas son \", variablesDescartadas)"
   ]
  },
  {
   "cell_type": "markdown",
   "metadata": {},
   "source": [
    "Entrenamos el arbol solo con las varables seleccionadas"
   ]
  },
  {
   "cell_type": "code",
   "execution_count": 83,
   "metadata": {},
   "outputs": [
    {
     "name": "stdout",
     "output_type": "stream",
     "text": [
      "98.49598552527424\n",
      "95.52238805970148\n"
     ]
    }
   ],
   "source": [
    "# Llamada al constructor del árbol de decisión\n",
    "arbolDecision = tree.DecisionTreeClassifier(criterion=clasificadores.best_params_['criterion']\n",
    "                                            , min_samples_split=clasificadores.best_params_['min_samples_split']\n",
    "                                            , min_samples_leaf=clasificadores.best_params_['min_samples_leaf'])\n",
    "# Entrenamiento del árbol de decisión con los datos transformados\n",
    "arbolDecision.fit(X_new,y_train)\n",
    "# Predicción de las clases de los datos de entrenamiento transformados\n",
    "prediccionesTrain = arbolDecision.predict(X_new)\n",
    "# Se obtiene el accuracy en enrenamiento del nuevo árbol\n",
    "accuracyTrain = metrics.accuracy_score(prediccionesTrain, y_train) * 100\n",
    "print(accuracyTrain)\n",
    "\n",
    "# Obtenición del rendimiento con los datos de test\n",
    "prediccionesTest = arbolDecision.predict(X_test[:,indicesSeleccionados])\n",
    "accuracyTest = metrics.accuracy_score(prediccionesTest, y_test) * 100\n",
    "print(accuracyTest)"
   ]
  },
  {
   "cell_type": "markdown",
   "metadata": {},
   "source": [
    "Perdemos un 1% de rendimiento pero utilizamos 15 variables menos."
   ]
  },
  {
   "cell_type": "markdown",
   "metadata": {},
   "source": [
    "RandomForest:"
   ]
  },
  {
   "cell_type": "code",
   "execution_count": 84,
   "metadata": {},
   "outputs": [
    {
     "name": "stdout",
     "output_type": "stream",
     "text": [
      "La importancia de la variable SubDomains es: 28.05178\n",
      "La importancia de la variable RequestURL es: 24.69208\n",
      "La importancia de la variable DNSRecording es: 7.53289\n",
      "La importancia de la variable PrefixSuffix- es: 6.2756\n",
      "La importancia de la variable Redirecting// es: 5.07035\n",
      "La importancia de la variable AnchorURL es: 4.56172\n",
      "La importancia de la variable LinksInScriptTags es: 2.45978\n",
      "La importancia de la variable GoogleIndex es: 2.20592\n",
      "La importancia de la variable HTTPSDomainURL es: 1.97316\n",
      "La importancia de la variable IframeRedirection es: 1.77009\n",
      "La importancia de la variable HTTPS es: 1.67463\n",
      "La importancia de la variable Index es: 1.56259\n",
      "La importancia de la variable WebsiteTraffic es: 1.44934\n",
      "La importancia de la variable AgeofDomain es: 1.43154\n",
      "La importancia de la variable PageRank es: 1.43135\n",
      "La importancia de la variable UsingIP es: 1.03293\n",
      "La importancia de la variable NonStdPort es: 0.7012\n",
      "La importancia de la variable AbnormalURL es: 0.64803\n",
      "La importancia de la variable ShortURL es: 0.64046\n",
      "La importancia de la variable LinksPointingToPage es: 0.55914\n",
      "La importancia de la variable LongURL es: 0.55066\n",
      "La importancia de la variable DisableRightClick es: 0.54029\n",
      "La importancia de la variable InfoEmail es: 0.53096\n",
      "La importancia de la variable ServerFormHandler es: 0.52801\n",
      "La importancia de la variable DomainRegLen es: 0.47365\n",
      "La importancia de la variable Symbol@ es: 0.44044\n",
      "La importancia de la variable WebsiteForwarding es: 0.41171\n",
      "La importancia de la variable Favicon es: 0.32729\n",
      "La importancia de la variable UsingPopupWindow es: 0.29505\n",
      "La importancia de la variable StatusBarCust es: 0.17737\n"
     ]
    },
    {
     "data": {
      "text/plain": [
       "<BarContainer object of 30 artists>"
      ]
     },
     "execution_count": 84,
     "metadata": {},
     "output_type": "execute_result"
    },
    {
     "data": {
      "image/png": "[encoded data removed]",
      "text/plain": [
       "<Figure size 432x288 with 1 Axes>"
      ]
     },
     "metadata": {
      "needs_background": "light"
     },
     "output_type": "display_data"
    }
   ],
   "source": [
    "importancias = clfRF.feature_importances_ * 100\n",
    "# Vamos a emparejar cada valor con el nombre de cada variable (cada pareja será una tupla)\n",
    "variables_importancia = [(nombreVar, round(importancia, 5)) for nombreVar, importancia in \n",
    "                         zip(data.columns, importancias)]\n",
    "# Vamos a ordenar las variable de acuerdo a su importancia (de mayor a menor importancia)\n",
    "variables_importancia_ordenado = sorted(variables_importancia, key = lambda x: x[1], reverse = True)\n",
    "# Imprimimos el nombre de cada variable y su importancia\n",
    "for nomVar, imp in variables_importancia_ordenado:\n",
    "    print(\"La importancia de la variable {} es: {}\".format(nomVar, imp))\n",
    "\n",
    "# Creamos una figura de barras horizontales (plt.barh) con la misma información (sin ordenar por importancia: orden original de variables)\n",
    "    # Para etiquetar cada barra podéis utilizar el comando plt.yticks y poner el nombre de cada variable en cada caso\n",
    "plt.barh(np.array(variables_importancia)[:,0], importancias)"
   ]
  },
  {
   "cell_type": "markdown",
   "metadata": {},
   "source": [
    "Como podemos vee las primeras 15 variables son casi las mismas que las que elige el arbol. Difieren solamente en una. \n"
   ]
  },
  {
   "cell_type": "code",
   "execution_count": null,
   "metadata": {},
   "outputs": [],
   "source": []
  }
 ],
 "metadata": {
  "kernelspec": {
   "display_name": "Python 3",
   "language": "python",
   "name": "python3"
  },
  "language_info": {
   "codemirror_mode": {
    "name": "ipython",
    "version": 3
   },
   "file_extension": ".py",
   "mimetype": "text/x-python",
   "name": "python",
   "nbconvert_exporter": "python",
   "pygments_lexer": "ipython3",
   "version": "3.7.4"
  }
 },
 "nbformat": 4,
 "nbformat_minor": 2
}
