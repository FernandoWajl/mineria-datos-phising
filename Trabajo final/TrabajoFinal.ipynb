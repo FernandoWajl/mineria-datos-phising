{
 "cells": [
  {
   "cell_type": "code",
   "execution_count": 1,
   "metadata": {},
   "outputs": [],
   "source": [
    "import numpy as np\n",
    "import pandas as pd\n",
    "import matplotlib.pyplot as plt\n",
    "%matplotlib inline"
   ]
  },
  {
   "cell_type": "markdown",
   "metadata": {},
   "source": [
    "Leemos datos del csv."
   ]
  },
  {
   "cell_type": "code",
   "execution_count": 2,
   "metadata": {},
   "outputs": [],
   "source": [
    "data = pd.read_csv('phishing.csv')"
   ]
  },
  {
   "cell_type": "markdown",
   "metadata": {},
   "source": [
    "Chequeamos si hay valores nulos. "
   ]
  },
  {
   "cell_type": "code",
   "execution_count": 3,
   "metadata": {},
   "outputs": [
    {
     "name": "stdout",
     "output_type": "stream",
     "text": [
      "Index                  0\n",
      "UsingIP                0\n",
      "LongURL                0\n",
      "ShortURL               0\n",
      "Symbol@                0\n",
      "Redirecting//          0\n",
      "PrefixSuffix-          0\n",
      "SubDomains             0\n",
      "HTTPS                  0\n",
      "DomainRegLen           0\n",
      "Favicon                0\n",
      "NonStdPort             0\n",
      "HTTPSDomainURL         0\n",
      "RequestURL             0\n",
      "AnchorURL              0\n",
      "LinksInScriptTags      0\n",
      "ServerFormHandler      0\n",
      "InfoEmail              0\n",
      "AbnormalURL            0\n",
      "WebsiteForwarding      0\n",
      "StatusBarCust          0\n",
      "DisableRightClick      0\n",
      "UsingPopupWindow       0\n",
      "IframeRedirection      0\n",
      "AgeofDomain            0\n",
      "DNSRecording           0\n",
      "WebsiteTraffic         0\n",
      "PageRank               0\n",
      "GoogleIndex            0\n",
      "LinksPointingToPage    0\n",
      "StatsReport            0\n",
      "class                  0\n",
      "dtype: int64\n"
     ]
    }
   ],
   "source": [
    "nulos = pd.isnull(data).sum()\n",
    "print(nulos)"
   ]
  },
  {
   "cell_type": "markdown",
   "metadata": {},
   "source": [
    "Separamos en data y target."
   ]
  },
  {
   "cell_type": "code",
   "execution_count": 4,
   "metadata": {},
   "outputs": [
    {
     "name": "stdout",
     "output_type": "stream",
     "text": [
      "(11054, 31)\n"
     ]
    }
   ],
   "source": [
    "X = np.array(data[data.columns[0:(len(data.columns) - 1)]])\n",
    "print(X.shape)\n",
    "y = pd.factorize(data['class'].values)[0]"
   ]
  },
  {
   "cell_type": "markdown",
   "metadata": {},
   "source": [
    "Saco la primer variable de X: index."
   ]
  },
  {
   "cell_type": "code",
   "execution_count": 5,
   "metadata": {},
   "outputs": [
    {
     "name": "stdout",
     "output_type": "stream",
     "text": [
      "(11054, 30)\n"
     ]
    }
   ],
   "source": [
    "numbers = list(range(1,32))\n",
    "X = X[:,list(range(1,31))]\n",
    "print(X.shape)\n",
    "columns = []\n",
    "for number in numbers:\n",
    "    columns.append(data.columns[number])"
   ]
  },
  {
   "cell_type": "markdown",
   "metadata": {},
   "source": [
    "Hold-out. Para separar datos de train y test utilizamos el metodo hold-out con un 80% de ejemplos para el train.\n",
    "\n",
    "Fijamos semilla para que sea reproducible. "
   ]
  },
  {
   "cell_type": "code",
   "execution_count": 6,
   "metadata": {},
   "outputs": [],
   "source": [
    "from sklearn import tree, model_selection, metrics\n",
    "\n",
    "np.random.seed(12)\n",
    "\n",
    "X_train, X_test, y_train, y_test = model_selection.train_test_split(X, y, train_size=0.8)"
   ]
  },
  {
   "cell_type": "markdown",
   "metadata": {},
   "source": [
    "Probaremos resolver el problema con: KNN, árbol de decisión y Random Forest. Además, para cada uno cambiaremos su configuración. \n",
    "\n",
    "Comenzamos con arbol de decisión. Vemos sus porcentajes de aciertos segun el tipo de arbol. "
   ]
  },
  {
   "cell_type": "code",
   "execution_count": 7,
   "metadata": {},
   "outputs": [
    {
     "name": "stdout",
     "output_type": "stream",
     "text": [
      "[99.07271288024427, 99.07271288024427]\n",
      "[96.11035730438715, 96.47218453188603]\n"
     ]
    }
   ],
   "source": [
    "listaAccTrain = []\n",
    "listaAccTest = []\n",
    "\n",
    "\n",
    "for tipoArbol in ['gini','entropy']:\n",
    "    clasificador = tree.DecisionTreeClassifier(criterion=tipoArbol)\n",
    "    clasificador.fit(X_train,y_train)\n",
    "\n",
    "    prediccionesTrain = clasificador.predict(X_train)\n",
    "    aciertoTrain = metrics.accuracy_score(prediccionesTrain, y_train) * 100\n",
    "    prediccionesTest = clasificador.predict(X_test)\n",
    "    aciertoTest = metrics.accuracy_score(prediccionesTest, y_test) * 100\n",
    "    \n",
    "    listaAccTrain.append(aciertoTrain)\n",
    "    listaAccTest.append(aciertoTest)\n",
    "    \n",
    "print(listaAccTrain)\n",
    "print(listaAccTest)"
   ]
  },
  {
   "cell_type": "markdown",
   "metadata": {},
   "source": [
    "Buscamos la mejor configuración de los árboles de decisión utilizando una validación cruzada de 10 particiones."
   ]
  },
  {
   "cell_type": "code",
   "execution_count": 8,
   "metadata": {},
   "outputs": [
    {
     "data": {
      "text/plain": [
       "GridSearchCV(cv=10, error_score='raise-deprecating',\n",
       "             estimator=DecisionTreeClassifier(class_weight=None,\n",
       "                                              criterion='gini', max_depth=None,\n",
       "                                              max_features=None,\n",
       "                                              max_leaf_nodes=None,\n",
       "                                              min_impurity_decrease=0.0,\n",
       "                                              min_impurity_split=None,\n",
       "                                              min_samples_leaf=1,\n",
       "                                              min_samples_split=2,\n",
       "                                              min_weight_fraction_leaf=0.0,\n",
       "                                              presort=False, random_state=None,\n",
       "                                              splitter='best'),\n",
       "             iid=True, n_jobs=None,\n",
       "             param_grid={'criterion': ['gini', 'entropy'],\n",
       "                         'min_samples_leaf': [1, 2, 4],\n",
       "                         'min_samples_split': [2, 5, 10]},\n",
       "             pre_dispatch='2*n_jobs', refit=True, return_train_score=True,\n",
       "             scoring='accuracy', verbose=0)"
      ]
     },
     "execution_count": 8,
     "metadata": {},
     "output_type": "execute_result"
    }
   ],
   "source": [
    "semilla = np.random.seed(12)\n",
    "\n",
    "c = tree.DecisionTreeClassifier()\n",
    "\n",
    "params = {\n",
    "    'criterion': ['gini', 'entropy'], \n",
    "    'min_samples_split': [2, 5, 10], \n",
    "    'min_samples_leaf': [1, 2, 4]\n",
    "}\n",
    "\n",
    "clasificadores =  model_selection.GridSearchCV(c, params, scoring='accuracy', cv=10, return_train_score=True, iid=True)\n",
    "clasificadores.fit(X_train,y_train)\n"
   ]
  },
  {
   "cell_type": "code",
   "execution_count": 9,
   "metadata": {},
   "outputs": [
    {
     "name": "stdout",
     "output_type": "stream",
     "text": [
      "0.9624561800294018\n",
      "{'criterion': 'entropy', 'min_samples_leaf': 1, 'min_samples_split': 2}\n"
     ]
    }
   ],
   "source": [
    "print(clasificadores.best_score_)\n",
    "print(clasificadores.best_params_)"
   ]
  },
  {
   "cell_type": "markdown",
   "metadata": {},
   "source": [
    "Probamos con random forest para comparar rendimientos"
   ]
  },
  {
   "cell_type": "code",
   "execution_count": 10,
   "metadata": {},
   "outputs": [
    {
     "name": "stdout",
     "output_type": "stream",
     "text": [
      "99.07271288024427\n",
      "96.8340117593849\n",
      "99.07271288024427\n",
      "96.87924016282226\n"
     ]
    }
   ],
   "source": [
    "from sklearn.ensemble import RandomForestClassifier\n",
    "\n",
    "for tipoArbol in ['gini','entropy']:\n",
    "    clfRF = RandomForestClassifier(criterion=tipoArbol,\n",
    "                                 n_estimators=100, random_state=0)\n",
    "    clfRF.fit(X_train,y_train)\n",
    "    predTrain = clfRF.predict(X_train)\n",
    "    predTest = clfRF.predict(X_test)\n",
    "    accTrainRF = metrics.accuracy_score(predTrain, y_train) * 100\n",
    "    accTestRF =  metrics.accuracy_score(predTest, y_test) * 100\n",
    "    print(accTrainRF)\n",
    "    print(accTestRF)"
   ]
  },
  {
   "cell_type": "markdown",
   "metadata": {},
   "source": [
    "Buscamos su mejor configuracion con gridSearchCV. Ojo: demora 10 minutos aprox."
   ]
  },
  {
   "cell_type": "code",
   "execution_count": 11,
   "metadata": {},
   "outputs": [
    {
     "data": {
      "text/plain": [
       "GridSearchCV(cv=10, error_score='raise-deprecating',\n",
       "             estimator=RandomForestClassifier(bootstrap=True, class_weight=None,\n",
       "                                              criterion='gini', max_depth=None,\n",
       "                                              max_features='auto',\n",
       "                                              max_leaf_nodes=None,\n",
       "                                              min_impurity_decrease=0.0,\n",
       "                                              min_impurity_split=None,\n",
       "                                              min_samples_leaf=1,\n",
       "                                              min_samples_split=2,\n",
       "                                              min_weight_fraction_leaf=0.0,\n",
       "                                              n_estimators='warn', n_jobs=None,\n",
       "                                              oob_score=False,\n",
       "                                              random_state=None, verbose=0,\n",
       "                                              warm_start=False),\n",
       "             iid=True, n_jobs=None,\n",
       "             param_grid={'criterion': ['gini', 'entropy'],\n",
       "                         'max_depth': [5, 10, None],\n",
       "                         'max_features': [1, 'sqrt', 'log2', None],\n",
       "                         'min_samples_split': [2, 10, 20],\n",
       "                         'n_estimators': [10, 50, 100]},\n",
       "             pre_dispatch='2*n_jobs', refit=True, return_train_score=True,\n",
       "             scoring='accuracy', verbose=0)"
      ]
     },
     "execution_count": 11,
     "metadata": {},
     "output_type": "execute_result"
    }
   ],
   "source": [
    "semilla = np.random.seed(12)\n",
    "clasificador = RandomForestClassifier()\n",
    "\n",
    "params = {'n_estimators': [10,50,100], \n",
    "          'max_features': [1,'sqrt','log2',None], \n",
    "          'criterion': ['gini','entropy'],\n",
    "          'max_depth': [5,10,None],\n",
    "          'min_samples_split': [2,10,20]\n",
    "         }\n",
    "\n",
    "clasificadoresRF =  model_selection.GridSearchCV(clasificador, params, scoring='accuracy', cv=10, return_train_score=True, iid=True)\n",
    "clasificadoresRF.fit(X_train,y_train)"
   ]
  },
  {
   "cell_type": "code",
   "execution_count": 12,
   "metadata": {},
   "outputs": [
    {
     "name": "stdout",
     "output_type": "stream",
     "text": [
      "0.9731991405631573\n",
      "{'criterion': 'entropy', 'max_depth': None, 'max_features': 1, 'min_samples_split': 2, 'n_estimators': 100}\n"
     ]
    }
   ],
   "source": [
    "print(clasificadoresRF.best_score_)\n",
    "print(clasificadoresRF.best_params_)"
   ]
  },
  {
   "cell_type": "markdown",
   "metadata": {},
   "source": [
    "Entreno con la mejor configuracion:"
   ]
  },
  {
   "cell_type": "code",
   "execution_count": 13,
   "metadata": {
    "scrolled": true
   },
   "outputs": [
    {
     "name": "stdout",
     "output_type": "stream",
     "text": [
      "99.07271288024427\n",
      "96.96969696969697\n"
     ]
    }
   ],
   "source": [
    "clfRF = RandomForestClassifier(criterion= clasificadoresRF.best_params_['criterion'],\n",
    "                             max_depth= clasificadoresRF.best_params_['max_depth'],\n",
    "                              max_features= clasificadoresRF.best_params_['max_features'],\n",
    "                              min_samples_split= clasificadoresRF.best_params_['min_samples_split'],\n",
    "                              n_estimators= clasificadoresRF.best_params_['n_estimators'])\n",
    "clfRF.fit(X_train,y_train)\n",
    "predTrain = clfRF.predict(X_train)\n",
    "predTest = clfRF.predict(X_test)\n",
    "accTrainRF = metrics.accuracy_score(predTrain, y_train) * 100\n",
    "accTestRF =  metrics.accuracy_score(predTest, y_test) * 100\n",
    "\n",
    "print(accTrainRF)\n",
    "print(accTestRF)"
   ]
  },
  {
   "cell_type": "markdown",
   "metadata": {},
   "source": [
    "A continuacion buscaremos las variables mas importantes. Tanto con el arbol como con el random forest. "
   ]
  },
  {
   "cell_type": "markdown",
   "metadata": {},
   "source": [
    "Arbol: Busco variables mas importantes con SelectFromModel."
   ]
  },
  {
   "cell_type": "code",
   "execution_count": 14,
   "metadata": {},
   "outputs": [
    {
     "name": "stdout",
     "output_type": "stream",
     "text": [
      "Las variables seleccionadas son  ['UsingIP', 'PrefixSuffix-', 'SubDomains', 'HTTPS', 'DomainRegLen', 'RequestURL', 'AnchorURL', 'LinksInScriptTags', 'ServerFormHandler', 'AgeofDomain', 'DNSRecording', 'WebsiteTraffic', 'PageRank', 'GoogleIndex', 'LinksPointingToPage']\n",
      "Las variables descartadas son  ['LongURL', 'ShortURL', 'Symbol@', 'Redirecting//', 'Favicon', 'NonStdPort', 'HTTPSDomainURL', 'InfoEmail', 'AbnormalURL', 'WebsiteForwarding', 'StatusBarCust', 'DisableRightClick', 'UsingPopupWindow', 'IframeRedirection', 'StatsReport']\n"
     ]
    }
   ],
   "source": [
    "from sklearn.feature_selection import SelectFromModel\n",
    "\n",
    "arbolDecision = tree.DecisionTreeClassifier(criterion=clasificadores.best_params_['criterion']\n",
    "                                            , min_samples_split=clasificadores.best_params_['min_samples_split']\n",
    "                                            , min_samples_leaf=clasificadores.best_params_['min_samples_leaf'])\n",
    "model =  SelectFromModel(arbolDecision, threshold='median')\n",
    "model.fit(X_train,y_train)\n",
    "\n",
    "X_new =  model.transform(X_train)\n",
    "booleanas =  model.get_support()\n",
    "\n",
    "variablesSeleccionadas = [columns[i] for i in range(len(columns) - 1) if booleanas[i]==True]\n",
    "print(\"Las variables seleccionadas son \", variablesSeleccionadas)\n",
    "\n",
    "indicesSeleccionados = [i for i in range(len(columns) - 1) if booleanas[i]==True]\n",
    "\n",
    "variablesDescartadas = [columns[i] for i in range(len(columns) - 1) if booleanas[i]==False]\n",
    "print(\"Las variables descartadas son \", variablesDescartadas)"
   ]
  },
  {
   "cell_type": "markdown",
   "metadata": {},
   "source": [
    "Entrenamos el arbol solo con las varables seleccionadas"
   ]
  },
  {
   "cell_type": "code",
   "execution_count": 15,
   "metadata": {},
   "outputs": [
    {
     "name": "stdout",
     "output_type": "stream",
     "text": [
      "98.49598552527424\n",
      "95.47715965626413\n"
     ]
    }
   ],
   "source": [
    "arbolDecision = tree.DecisionTreeClassifier(criterion=clasificadores.best_params_['criterion']\n",
    "                                            , min_samples_split=clasificadores.best_params_['min_samples_split']\n",
    "                                            , min_samples_leaf=clasificadores.best_params_['min_samples_leaf'])\n",
    "arbolDecision.fit(X_new,y_train)\n",
    "\n",
    "prediccionesTrain = arbolDecision.predict(X_new)\n",
    "\n",
    "accuracyTrain = metrics.accuracy_score(prediccionesTrain, y_train) * 100\n",
    "print(accuracyTrain)\n",
    "\n",
    "prediccionesTest = arbolDecision.predict(X_test[:,indicesSeleccionados])\n",
    "accuracyTest = metrics.accuracy_score(prediccionesTest, y_test) * 100\n",
    "print(accuracyTest)"
   ]
  },
  {
   "cell_type": "markdown",
   "metadata": {},
   "source": [
    "Perdemos un 1% de rendimiento en test pero utilizamos 15 variables menos. Todavia podemos simplificar mas el arbol. Aumentando el valor de min_samples_split y min_samples_leaf. Veamos que tanto impacta en el rendimiento."
   ]
  },
  {
   "cell_type": "code",
   "execution_count": 16,
   "metadata": {},
   "outputs": [
    {
     "name": "stdout",
     "output_type": "stream",
     "text": [
      "Split:  2\n",
      "Leaf:  2\n",
      "97.63654868257379\n",
      "94.48213478064224\n",
      "----------------\n",
      "Split:  2\n",
      "Leaf:  4\n",
      "96.77711183987334\n",
      "94.39167797376753\n",
      "----------------\n",
      "Split:  5\n",
      "Leaf:  1\n",
      "98.02103358588714\n",
      "94.88919041157847\n",
      "----------------\n",
      "Split:  5\n",
      "Leaf:  2\n",
      "97.56869840551849\n",
      "94.5273631840796\n",
      "----------------\n",
      "Split:  5\n",
      "Leaf:  4\n",
      "96.79972859889178\n",
      "94.34644957033017\n",
      "----------------\n",
      "Split:  10\n",
      "Leaf:  1\n",
      "97.30860567680651\n",
      "94.43690637720489\n",
      "----------------\n",
      "Split:  10\n",
      "Leaf:  2\n",
      "97.12767160465904\n",
      "94.39167797376753\n",
      "----------------\n",
      "Split:  10\n",
      "Leaf:  4\n",
      "96.70926156281806\n",
      "94.34644957033017\n",
      "----------------\n"
     ]
    }
   ],
   "source": [
    "configuraciones = [ [2,2], [2,4], [5,1], [5,2], [5,4], [10,1], [10,2], [10,4] ]\n",
    "\n",
    "for config in configuraciones:\n",
    "    print(\"Split: \", config[0])\n",
    "    print(\"Leaf: \", config[1])\n",
    "    arbolDecision = tree.DecisionTreeClassifier(criterion=clasificadores.best_params_['criterion']\n",
    "                                                , min_samples_split=config[0]\n",
    "                                                , min_samples_leaf=config[1])\n",
    "    arbolDecision.fit(X_new,y_train)\n",
    "\n",
    "    prediccionesTrain = arbolDecision.predict(X_new)\n",
    "\n",
    "    accuracyTrain = metrics.accuracy_score(prediccionesTrain, y_train) * 100\n",
    "    print(accuracyTrain)\n",
    "\n",
    "    prediccionesTest = arbolDecision.predict(X_test[:,indicesSeleccionados])\n",
    "    accuracyTest = metrics.accuracy_score(prediccionesTest, y_test) * 100\n",
    "    print(accuracyTest)\n",
    "    \n",
    "    print(\"----------------\")"
   ]
  },
  {
   "cell_type": "markdown",
   "metadata": {},
   "source": [
    "RandomForest:"
   ]
  },
  {
   "cell_type": "code",
   "execution_count": 17,
   "metadata": {},
   "outputs": [
    {
     "name": "stdout",
     "output_type": "stream",
     "text": [
      "La importancia de la variable HTTPS es: 21.61126\n",
      "La importancia de la variable AnchorURL es: 20.13312\n",
      "La importancia de la variable WebsiteTraffic es: 7.74217\n",
      "La importancia de la variable SubDomains es: 7.01407\n",
      "La importancia de la variable LinksInScriptTags es: 6.03702\n",
      "La importancia de la variable PrefixSuffix- es: 4.89121\n",
      "La importancia de la variable ServerFormHandler es: 3.3985\n",
      "La importancia de la variable LinksPointingToPage es: 2.99325\n",
      "La importancia de la variable RequestURL es: 2.72153\n",
      "La importancia de la variable AgeofDomain es: 2.28849\n",
      "La importancia de la variable DomainRegLen es: 2.2672\n",
      "La importancia de la variable UsingIP es: 2.23598\n",
      "La importancia de la variable DNSRecording es: 1.8495\n",
      "La importancia de la variable PageRank es: 1.84617\n",
      "La importancia de la variable GoogleIndex es: 1.81279\n",
      "La importancia de la variable LongURL es: 1.35139\n",
      "La importancia de la variable StatsReport es: 0.98212\n",
      "La importancia de la variable Symbol@ es: 0.91564\n",
      "La importancia de la variable HTTPSDomainURL es: 0.907\n",
      "La importancia de la variable ShortURL es: 0.83308\n",
      "La importancia de la variable InfoEmail es: 0.78387\n",
      "La importancia de la variable AbnormalURL es: 0.78137\n",
      "La importancia de la variable WebsiteForwarding es: 0.77314\n",
      "La importancia de la variable UsingPopupWindow es: 0.76175\n",
      "La importancia de la variable Redirecting// es: 0.67077\n",
      "La importancia de la variable StatusBarCust es: 0.66436\n",
      "La importancia de la variable Favicon es: 0.58911\n",
      "La importancia de la variable NonStdPort es: 0.45363\n",
      "La importancia de la variable IframeRedirection es: 0.42768\n",
      "La importancia de la variable DisableRightClick es: 0.26286\n"
     ]
    },
    {
     "data": {
      "text/plain": [
       "<BarContainer object of 30 artists>"
      ]
     },
     "execution_count": 17,
     "metadata": {},
     "output_type": "execute_result"
    },
    {
     "data": {
      "image/png": "[encoded data removed]",
      "text/plain": [
       "<Figure size 432x288 with 1 Axes>"
      ]
     },
     "metadata": {
      "needs_background": "light"
     },
     "output_type": "display_data"
    }
   ],
   "source": [
    "importancias = clfRF.feature_importances_ * 100\n",
    "\n",
    "variables_importancia = [(nombreVar, round(importancia, 5)) for nombreVar, importancia in \n",
    "                         zip(columns, importancias)]\n",
    "\n",
    "variables_importancia_ordenado = sorted(variables_importancia, key = lambda x: x[1], reverse = True)\n",
    "\n",
    "for nomVar, imp in variables_importancia_ordenado:\n",
    "    print(\"La importancia de la variable {} es: {}\".format(nomVar, imp))\n",
    "\n",
    "plt.barh(np.array(variables_importancia)[:,0], importancias)"
   ]
  },
  {
   "cell_type": "markdown",
   "metadata": {},
   "source": [
    "Como podemos vee las primeras 15 variables son  las mismas que las que elige el arbol. \n",
    "\n",
    "Entreno el random forest solo con las variables seleccionadas"
   ]
  },
  {
   "cell_type": "code",
   "execution_count": 18,
   "metadata": {},
   "outputs": [
    {
     "name": "stdout",
     "output_type": "stream",
     "text": [
      "98.49598552527424\n",
      "96.51741293532339\n"
     ]
    }
   ],
   "source": [
    "clfRF = RandomForestClassifier(criterion= clasificadoresRF.best_params_['criterion'],\n",
    "                             max_depth= clasificadoresRF.best_params_['max_depth'],\n",
    "                              max_features= clasificadoresRF.best_params_['max_features'],\n",
    "                              min_samples_split= clasificadoresRF.best_params_['min_samples_split'],\n",
    "                              n_estimators= clasificadoresRF.best_params_['n_estimators'])\n",
    "clfRF.fit(X_new,y_train)\n",
    "predTrain = clfRF.predict(X_new)\n",
    "predTest = clfRF.predict(X_test[:,indicesSeleccionados])\n",
    "accTrainRF = metrics.accuracy_score(predTrain, y_train) * 100\n",
    "accTestRF =  metrics.accuracy_score(predTest, y_test) * 100\n",
    "\n",
    "print(accTrainRF)\n",
    "print(accTestRF)"
   ]
  },
  {
   "cell_type": "markdown",
   "metadata": {},
   "source": [
    "La diferencia de rendimiento es baja por lo tanto nos quedamos con el arbol de decision por su simplicidad.\n",
    "\n",
    "KNN:"
   ]
  },
  {
   "cell_type": "code",
   "execution_count": 19,
   "metadata": {},
   "outputs": [
    {
     "name": "stdout",
     "output_type": "stream",
     "text": [
      "1\n",
      "0.9873346149496777\n",
      "0.9615558570782451\n",
      "-----------\n",
      "3\n",
      "0.9752346488748163\n",
      "0.9430122116689281\n",
      "-----------\n",
      "5\n",
      "0.9646047721361529\n",
      "0.937584803256445\n",
      "-----------\n",
      "7\n",
      "0.9590636661766369\n",
      "0.9380370872908186\n",
      "-----------\n"
     ]
    }
   ],
   "source": [
    "from sklearn import neighbors\n",
    "\n",
    "accTrain = []\n",
    "accTest = []\n",
    "for k in [1,3,5,7]:\n",
    "    print (k)\n",
    "    knn = neighbors.KNeighborsClassifier(n_neighbors=k)\n",
    "    knn.fit(X_train,y_train)\n",
    "    \n",
    "    predicciones_train = knn.predict(X_train)\n",
    "    accuracy_train = metrics.accuracy_score(y_train, predicciones_train)\n",
    "    accTrain.append(accuracy_train)\n",
    "    print (accuracy_train)\n",
    "    \n",
    "    predicciones_test = knn.predict(X_test)\n",
    "    accuracy_test = metrics.accuracy_score(y_test, predicciones_test)\n",
    "    accTest.append(accuracy_test)\n",
    "    print (accuracy_test)\n",
    "    print(\"-----------\")\n",
    "    \n"
   ]
  },
  {
   "cell_type": "markdown",
   "metadata": {},
   "source": [
    "Buscamos la mejor configuracion. Ojo: demora 5 minutos aprox."
   ]
  },
  {
   "cell_type": "code",
   "execution_count": 20,
   "metadata": {},
   "outputs": [
    {
     "data": {
      "text/plain": [
       "GridSearchCV(cv=10, error_score='raise-deprecating',\n",
       "             estimator=KNeighborsClassifier(algorithm='auto', leaf_size=30,\n",
       "                                            metric='minkowski',\n",
       "                                            metric_params=None, n_jobs=None,\n",
       "                                            n_neighbors=5, p=2,\n",
       "                                            weights='uniform'),\n",
       "             iid=True, n_jobs=None,\n",
       "             param_grid={'metric': ['manhattan', 'euclidean'],\n",
       "                         'n_neighbors': [1, 3, 5, 7],\n",
       "                         'weights': ['uniform', 'distance']},\n",
       "             pre_dispatch='2*n_jobs', refit=True, return_train_score=True,\n",
       "             scoring='accuracy', verbose=0)"
      ]
     },
     "execution_count": 20,
     "metadata": {},
     "output_type": "execute_result"
    }
   ],
   "source": [
    "semilla = np.random.seed(12)\n",
    "knn = neighbors.KNeighborsClassifier()\n",
    "\n",
    "params = {'n_neighbors': [1,3,5,7], \n",
    "          'metric': ['manhattan','euclidean'], \n",
    "          'weights': ['uniform','distance'],\n",
    "         }\n",
    "\n",
    "clasificadoresKNN =  model_selection.GridSearchCV(knn, params, scoring='accuracy', cv=10, return_train_score=True, iid=True)\n",
    "clasificadoresKNN.fit(X_train,y_train)"
   ]
  },
  {
   "cell_type": "code",
   "execution_count": 21,
   "metadata": {},
   "outputs": [
    {
     "name": "stdout",
     "output_type": "stream",
     "text": [
      "0.9643786045459686\n",
      "{'metric': 'manhattan', 'n_neighbors': 7, 'weights': 'distance'}\n"
     ]
    }
   ],
   "source": [
    "print(clasificadoresKNN.best_score_)\n",
    "print(clasificadoresKNN.best_params_)"
   ]
  },
  {
   "cell_type": "markdown",
   "metadata": {},
   "source": [
    "Entrenamos con la mejor configuracion de KNN"
   ]
  },
  {
   "cell_type": "code",
   "execution_count": 22,
   "metadata": {},
   "outputs": [
    {
     "name": "stdout",
     "output_type": "stream",
     "text": [
      "0.9907271288024426\n",
      "0.9624604251469923\n"
     ]
    }
   ],
   "source": [
    "knn = neighbors.KNeighborsClassifier(n_neighbors= clasificadoresKNN.best_params_['n_neighbors'],\n",
    "                                    weights= clasificadoresKNN.best_params_['weights'],\n",
    "                                    metric= clasificadoresKNN.best_params_['metric'])\n",
    "knn.fit(X_train,y_train)\n",
    "\n",
    "predicciones_train = knn.predict(X_train)\n",
    "accuracy_train = metrics.accuracy_score(y_train, predicciones_train)\n",
    "accTrain.append(accuracy_train)\n",
    "print (accuracy_train)\n",
    "\n",
    "predicciones_test = knn.predict(X_test)\n",
    "accuracy_test = metrics.accuracy_score(y_test, predicciones_test)\n",
    "accTest.append(accuracy_test)\n",
    "print (accuracy_test)"
   ]
  },
  {
   "cell_type": "code",
   "execution_count": null,
   "metadata": {},
   "outputs": [],
   "source": []
  }
 ],
 "metadata": {
  "kernelspec": {
   "display_name": "Python 3",
   "language": "python",
   "name": "python3"
  },
  "language_info": {
   "codemirror_mode": {
    "name": "ipython",
    "version": 3
   },
   "file_extension": ".py",
   "mimetype": "text/x-python",
   "name": "python",
   "nbconvert_exporter": "python",
   "pygments_lexer": "ipython3",
   "version": "3.7.4"
  }
 },
 "nbformat": 4,
 "nbformat_minor": 2
}
